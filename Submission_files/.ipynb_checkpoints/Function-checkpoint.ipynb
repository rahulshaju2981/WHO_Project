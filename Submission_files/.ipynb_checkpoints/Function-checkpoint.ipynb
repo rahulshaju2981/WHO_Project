{
 "cells": [
  {
   "cell_type": "code",
   "execution_count": 1,
   "id": "f35a9ec1-1773-4281-801e-95dc106c9925",
   "metadata": {},
   "outputs": [
    {
     "name": "stdin",
     "output_type": "stream",
     "text": [
      "Do you consent to using advanced population data, which may include protected information, for better accuracy? (Y/N) Y\n"
     ]
    },
    {
     "name": "stdout",
     "output_type": "stream",
     "text": [
      "Thank you, you have given consent for advanced population data.\n",
      "\n",
      "Please enter the following values:\n",
      "\n"
     ]
    },
    {
     "name": "stdin",
     "output_type": "stream",
     "text": [
      "Region:  ea\n"
     ]
    },
    {
     "name": "stdout",
     "output_type": "stream",
     "text": [
      "Invalid input: Valid regions include 'Asia', 'Central America and Caribbean', 'European Union', 'Middle East', 'North America', 'Oceania', 'Rest of Europe', 'South America' \n"
     ]
    },
    {
     "name": "stdin",
     "output_type": "stream",
     "text": [
      "Region:  4\n"
     ]
    },
    {
     "name": "stdout",
     "output_type": "stream",
     "text": [
      "Invalid input: Valid regions include 'Asia', 'Central America and Caribbean', 'European Union', 'Middle East', 'North America', 'Oceania', 'Rest of Europe', 'South America' \n"
     ]
    },
    {
     "name": "stdin",
     "output_type": "stream",
     "text": [
      "Region:  Asia\n",
      "Year:  -2015\n"
     ]
    },
    {
     "name": "stdout",
     "output_type": "stream",
     "text": [
      "Invalid input: Year can't be a negative number.\n"
     ]
    },
    {
     "name": "stdin",
     "output_type": "stream",
     "text": [
      "Year:  f\n"
     ]
    },
    {
     "name": "stdout",
     "output_type": "stream",
     "text": [
      "Invalid input: Year must be a positive integer.\n"
     ]
    },
    {
     "name": "stdin",
     "output_type": "stream",
     "text": [
      "Year:  2015\n",
      "Under_five_deaths:  -3.3\n"
     ]
    },
    {
     "name": "stdout",
     "output_type": "stream",
     "text": [
      "Invalid input: Under_five_deaths must be a positive number.\n"
     ]
    },
    {
     "name": "stdin",
     "output_type": "stream",
     "text": [
      "Under_five_deaths:  g\n"
     ]
    },
    {
     "name": "stdout",
     "output_type": "stream",
     "text": [
      "Invalid input: Under_five_deaths must be a number.\n"
     ]
    },
    {
     "name": "stdin",
     "output_type": "stream",
     "text": [
      "Under_five_deaths:  3.3\n",
      "Adult_mortality:  56.2\n",
      "BMI:  g\n"
     ]
    },
    {
     "name": "stdout",
     "output_type": "stream",
     "text": [
      "Invalid input: BMI must be a number.\n"
     ]
    },
    {
     "name": "stdin",
     "output_type": "stream",
     "text": [
      "BMI:  -25\n"
     ]
    },
    {
     "name": "stdout",
     "output_type": "stream",
     "text": [
      "Invalid input: BMI must be a positive number.\n"
     ]
    },
    {
     "name": "stdin",
     "output_type": "stream",
     "text": [
      "BMI:  26\n",
      "Incidents_HIV:  -0.09\n"
     ]
    },
    {
     "name": "stdout",
     "output_type": "stream",
     "text": [
      "Invalid input: Incidents_HIV must be a positive number.\n"
     ]
    },
    {
     "name": "stdin",
     "output_type": "stream",
     "text": [
      "Incidents_HIV:  f\n"
     ]
    },
    {
     "name": "stdout",
     "output_type": "stream",
     "text": [
      "Invalid input: Incidents_HIV must be a number.\n"
     ]
    },
    {
     "name": "stdin",
     "output_type": "stream",
     "text": [
      "Incidents_HIV:  0.09\n",
      "GDP_per_capita:  27542\n",
      "Schooling:  9.7\n",
      "Economy_status_Developing:  g\n"
     ]
    },
    {
     "name": "stdout",
     "output_type": "stream",
     "text": [
      "Invalid input: Economy_status_Developing must be 0 or 1.\n"
     ]
    },
    {
     "name": "stdin",
     "output_type": "stream",
     "text": [
      "Economy_status_Developing:  4\n"
     ]
    },
    {
     "name": "stdout",
     "output_type": "stream",
     "text": [
      "Invalid input: Economy_status_Developing must be 0 or 1.\n"
     ]
    },
    {
     "name": "stdin",
     "output_type": "stream",
     "text": [
      "Economy_status_Developing:  0\n"
     ]
    },
    {
     "name": "stdout",
     "output_type": "stream",
     "text": [
      "80.6564075314059\n"
     ]
    }
   ],
   "source": [
    "import numpy as np\n",
    "import pandas as pd\n",
    "import joblib\n",
    "\n",
    "def final_function_to_predict():\n",
    "    \n",
    "    # Ask for consent until Y or N\n",
    "    while True:\n",
    "        consent = input(\"Do you consent to using advanced population data, which may include protected information, for better accuracy? (Y/N)\").strip().upper()\n",
    "        if consent in [\"Y\", \"N\"]:\n",
    "            break\n",
    "        else:\n",
    "            print(\"Invalid input: Input should be either Y or N\")\n",
    "\n",
    "    # Define full valid regions list\n",
    "    all_regions = [\n",
    "        'Region_Asia',\n",
    "        'Region_Central America and Caribbean',\n",
    "        'Region_European Union',\n",
    "        'Region_Middle East',\n",
    "        'Region_North America',\n",
    "        'Region_Oceania',\n",
    "        'Region_Rest of Europe',\n",
    "        'Region_South America'\n",
    "    ]\n",
    "\n",
    "    if consent == \"Y\":\n",
    "        print('Thank you, you have given consent for advanced population data.')\n",
    "\n",
    "        model_columns = [\n",
    "            'const', 'Year', 'Under_five_deaths', 'Adult_mortality', 'BMI',\n",
    "            'Incidents_HIV', 'GDP_per_capita', 'Schooling', 'Economy_status_Developing',\n",
    "            'Region_Central America and Caribbean', 'Region_European Union',\n",
    "            'Region_North America', 'Region_Oceania', 'Region_Rest of Europe',\n",
    "            'Region_South America', 'log_GDP'\n",
    "        ]\n",
    "        \n",
    "        input_features = [\n",
    "            'Region', 'Year', 'Under_five_deaths', 'Adult_mortality', 'BMI',\n",
    "            'Incidents_HIV', 'GDP_per_capita', 'Schooling', 'Economy_status_Developing'\n",
    "        ]\n",
    "\n",
    "        row_data = {col: 0 for col in model_columns}\n",
    "        row_data['const'] = 1\n",
    "\n",
    "        print(\"\\nPlease enter the following values:\\n\")\n",
    "\n",
    "        for feature in input_features:\n",
    "            while True:\n",
    "                val = input(f\"{feature}: \").strip()\n",
    "                # Region requires more validation since some regions were removed but are still valid inputs\n",
    "                if feature == 'Region':\n",
    "                    region_col = f\"Region_{val}\"\n",
    "                    if region_col in all_regions:\n",
    "                        if region_col in model_columns:\n",
    "                            row_data[region_col] = 1\n",
    "                        break\n",
    "                    else:\n",
    "                        print(f\"Invalid input: Valid regions include 'Asia', 'Central America and Caribbean', 'European Union', 'Middle East', 'North America', 'Oceania', 'Rest of Europe', 'South America' \")\n",
    "                \n",
    "                # Year must be a positive number       \n",
    "                elif feature == 'Year':\n",
    "                    try:\n",
    "                        year = int(val)\n",
    "                        if year >= 0:\n",
    "                            row_data['Year'] = year\n",
    "                            break\n",
    "                        else:\n",
    "                            print(\"Invalid input: Year can't be a negative number.\")\n",
    "                    except ValueError:\n",
    "                        print(\"Invalid input: Year must be a positive integer.\")\n",
    "\n",
    "                # Developing is either 0 or 1\n",
    "                elif feature == 'Economy_status_Developing':\n",
    "                    if val in [\"0\", \"1\"]:\n",
    "                        row_data[feature] = int(val)\n",
    "                        break\n",
    "                    else:\n",
    "                        print(\"Invalid input: Economy_status_Developing must be 0 or 1.\")\n",
    "                else:\n",
    "                    try:\n",
    "                        if float(val) >= 0:\n",
    "                            row_data[feature] = float(val)\n",
    "                            break\n",
    "                        else:\n",
    "                            print(f\"Invalid input: {feature} must be a positive number.\")\n",
    "                    except ValueError:\n",
    "                        print(f\"Invalid input: {feature} must be a number.\")\n",
    "\n",
    "        if row_data['GDP_per_capita'] > 0:\n",
    "            row_data['log_GDP'] = np.log(row_data['GDP_per_capita'])\n",
    "        else:\n",
    "            print(\"GDP_per_capita must be > 0 to compute log_GDP. Setting log_GDP = 0.\")\n",
    "            row_data['log_GDP'] = 0\n",
    "\n",
    "        user_df = pd.DataFrame([row_data])\n",
    "\n",
    "        scaler = joblib.load('opti_scaler.pkl')\n",
    "        scale_cols = ['Schooling', 'Adult_mortality', 'Under_five_deaths', 'GDP_per_capita', 'Year', 'log_GDP', 'BMI', 'Incidents_HIV']\n",
    "\n",
    "        def feature_eng(df, scaler, scale_cols):\n",
    "            df = df.copy()\n",
    "            df[scale_cols] = scaler.transform(df[scale_cols])\n",
    "            return df\n",
    "\n",
    "        test = feature_eng(user_df, scaler, scale_cols)\n",
    "\n",
    "        model = joblib.load('opti_model.pkl')\n",
    "        print(model.predict(test).iloc[0])\n",
    "\n",
    "    elif consent == \"N\":\n",
    "        print('Thank you, you have NOT given consent - a minimalist model will be used which may be less accurate and robust.')\n",
    "\n",
    "        model_columns = [ \n",
    "            'const', 'Year', 'Region_Asia', 'Region_Central America and Caribbean', 'Region_European Union',\n",
    "            'Region_Middle East', 'Region_North America', 'Region_Oceania', 'Region_Rest of Europe',\n",
    "            'Region_South America', 'Under_five_deaths', 'Adult_mortality', 'GDP_per_capita',\n",
    "            'Economy_status_Developing'\n",
    "        ]\n",
    "\n",
    "        input_features = [\n",
    "            'Region', 'Year', 'Under_five_deaths', 'Adult_mortality','GDP_per_capita', 'Economy_status_Developing'\n",
    "        ]\n",
    "\n",
    "        row_data = {col: 0 for col in model_columns}\n",
    "        row_data['const'] = 1\n",
    "\n",
    "        print(\"\\nPlease enter the following values:\\n\")\n",
    "\n",
    "        for feature in input_features:\n",
    "            while True:\n",
    "                val = input(f\"{feature}: \").strip()\n",
    "                if feature == 'Region':\n",
    "                    region_col = f\"Region_{val}\"\n",
    "                    if region_col in all_regions:\n",
    "                        if region_col in model_columns:\n",
    "                            row_data[region_col] = 1\n",
    "                        break\n",
    "                    else:\n",
    "                        print(f\"Invalid input: Valid regions include 'Asia', 'Central America and Caribbean', 'European Union', 'Middle East', 'North America', 'Oceania', 'Rest of Europe', 'South America' \")\n",
    "                        \n",
    "                elif feature == 'Year':\n",
    "                    try:\n",
    "                        year = int(val)\n",
    "                        if year >= 0:\n",
    "                            row_data['Year'] = year\n",
    "                            break\n",
    "                        else:\n",
    "                            print(\"Invalid input: Year can't be negative.\")\n",
    "                    except ValueError:\n",
    "                        print(\"Invalid input: Year must be a positive integer.\")\n",
    "                        \n",
    "                elif feature == 'Economy_status_Developing':\n",
    "                    if val in [\"0\", \"1\"]:\n",
    "                        row_data[feature] = int(val)\n",
    "                        break\n",
    "                    else:\n",
    "                        print(\"Invalid input: Economy_status_Developing must be 0 or 1.\")\n",
    "                else:\n",
    "                    try:\n",
    "                        if float(val) >= 0:\n",
    "                            row_data[feature] = float(val)\n",
    "                            break\n",
    "                        else:\n",
    "                            print(f\"Invalid input: {feature} must be a positive number.\")\n",
    "                    except ValueError:\n",
    "                        print(f\"Invalid input: {feature} must be a number.\")\n",
    "\n",
    "        user_df = pd.DataFrame([row_data])\n",
    "\n",
    "        scaler = joblib.load('limited_scaler.pkl')\n",
    "        scale_cols = [ 'Year', 'Under_five_deaths', 'Adult_mortality', 'GDP_per_capita', 'Economy_status_Developing']\n",
    "\n",
    "        def feature_eng(df, scaler, scale_cols):\n",
    "            df = df.copy()\n",
    "            df[scale_cols] = scaler.transform(df[scale_cols])\n",
    "            return df\n",
    "\n",
    "        test = feature_eng(user_df, scaler, scale_cols)\n",
    "\n",
    "        model = joblib.load('limited_model.pkl')\n",
    "        print(model.predict(test).iloc[0])\n",
    "\n",
    "\n",
    "final_function_to_predict()"
   ]
  },
  {
   "cell_type": "code",
   "execution_count": null,
   "id": "f83bca0d-a8cb-400d-89b6-6a13cf4c7c3e",
   "metadata": {},
   "outputs": [],
   "source": []
  }
 ],
 "metadata": {
  "kernelspec": {
   "display_name": "Python [conda env:base] *",
   "language": "python",
   "name": "conda-base-py"
  },
  "language_info": {
   "codemirror_mode": {
    "name": "ipython",
    "version": 3
   },
   "file_extension": ".py",
   "mimetype": "text/x-python",
   "name": "python",
   "nbconvert_exporter": "python",
   "pygments_lexer": "ipython3",
   "version": "3.12.7"
  }
 },
 "nbformat": 4,
 "nbformat_minor": 5
}
