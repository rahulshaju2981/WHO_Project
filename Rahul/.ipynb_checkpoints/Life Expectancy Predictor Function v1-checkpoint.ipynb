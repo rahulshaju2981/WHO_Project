{
 "cells": [
  {
   "cell_type": "markdown",
   "id": "a1ae26f9-b569-46ea-85ed-e6ba261b2dca",
   "metadata": {},
   "source": [
    "# Life Expectancy - Predictor Function"
   ]
  },
  {
   "cell_type": "markdown",
   "id": "5454a3b0-e65a-4fda-80b0-0ccd74f14930",
   "metadata": {},
   "source": [
    "#### File Setup (import libraries)"
   ]
  },
  {
   "cell_type": "code",
   "execution_count": 1,
   "id": "66b81cc1-bfe9-49c4-9a73-2f4880cf629c",
   "metadata": {},
   "outputs": [],
   "source": [
    "import numpy as np\n",
    "import seaborn as sns\n",
    "import matplotlib.pyplot as plt\n",
    "import pandas as pd"
   ]
  },
  {
   "cell_type": "markdown",
   "id": "3f00f305-1c56-442a-9e56-4bf59726e8d5",
   "metadata": {},
   "source": [
    "## Input Metadata"
   ]
  },
  {
   "cell_type": "markdown",
   "id": "b7615df6-ce41-40fc-870a-68a4929f5393",
   "metadata": {},
   "source": [
    "|Field|Description|\n",
    "|---:|:---|\n",
    "|Country|Country|\n",
    "|Year|Year|\n",
    "|Infant deaths|Number of Infant Deaths per 1000 population|\n",
    "|Under-five deaths|Number of under-five deaths per 1000 population|\n",
    "|Adult Mortality|Adult Mortality Rates of both sexes (probability of dying between 15 and 60 years per 1000 population)|\n",
    "|Alcohol Consumption|Alcohol, recorded per capita (15+) consumption (in litres of pure alcohol)|\n",
    "|Hepatitis B|Hepatitis B (HepB) immunization coverage among 1-year-olds (%)|\n",
    "|Measles|Measles - number of reported cases per 1000 population|\n",
    "|BMI|Average Body Mass Index of entire population|\n",
    "|Polio|Polio (Pol3) immunization coverage among 1-year-olds (%)|\n",
    "|Diphtheria|Diphtheria tetanus toxoid and pertussis (DTP3) immunization coverage among 1-year-olds (%)|\n",
    "|Incidents HIV|Deaths per 1 000 live births HIV/AIDS (0-4 years)|\n",
    "|GDP|Gross Domestic Product per capita (in USD)|\n",
    "|Population|Population of the country|\n",
    "|Thinness 10-19 years|Prevalence of thinness among children and adolescents for Age 10 to 19 (%)|\n",
    "|Thinness 5-9 years|Prevalence of thinness among children for Age 5 to 9(%)|\n",
    "|Schooling|Number of years of Schooling(years)|\n",
    "|Economic Status|Developed or Developing status|"
   ]
  },
  {
   "cell_type": "markdown",
   "id": "7ce4b7cc-b6ef-4aec-bea8-141693a4f899",
   "metadata": {},
   "source": [
    "## Data Input"
   ]
  },
  {
   "cell_type": "code",
   "execution_count": 2,
   "id": "837252d1-bb45-4b07-afd4-fbf1d1026ffc",
   "metadata": {},
   "outputs": [
    {
     "name": "stdin",
     "output_type": "stream",
     "text": [
      "Please enter the Country: India\n",
      "Please enter the Region: Kerala\n",
      "Please enter the Year: 20005\n",
      "Please enter the Infant_deaths: 20\n",
      "Please enter the Under_five_deaths: 34\n",
      "Please enter the Adult_mortality: 23\n",
      "Please enter the Alcohol_consumption: 43\n",
      "Please enter the Hepatitis_B: 2\n",
      "Please enter the Measles: 4\n",
      "Please enter the BMI: 5\n",
      "Please enter the Polio: 6\n",
      "Please enter the Diphtheria: 4\n",
      "Please enter the Incidents_HIV: 3\n",
      "Please enter the GDP_per_capita: 2\n",
      "Please enter the Population_mln: 5\n",
      "Please enter the Thinness_ten_nineteen_years: 6\n",
      "Please enter the Thinness_five_nine_years: 4\n",
      "Please enter the Schooling: 3\n",
      "Please enter the Economy_status_Developed: 2\n",
      "Please enter the Economy_status_Developing: 3\n",
      "Please enter the Life_expectancy: 5\n"
     ]
    }
   ],
   "source": [
    "columns = ['Country', 'Region', 'Year', 'Infant_deaths', 'Under_five_deaths',\n",
    "'Adult_mortality', 'Alcohol_consumption', 'Hepatitis_B', 'Measles',\n",
    "'BMI', 'Polio', 'Diphtheria', 'Incidents_HIV', 'GDP_per_capita',\n",
    "'Population_mln', 'Thinness_ten_nineteen_years',\n",
    "'Thinness_five_nine_years', 'Schooling', 'Economy_status_Developed',\n",
    "'Economy_status_Developing', 'Life_expectancy']\n",
    "\n",
    "features = []\n",
    "\n",
    "for i in columns:\n",
    "    features.append(input(f\"Please enter the {i}:\"))"
   ]
  },
  {
   "cell_type": "code",
   "execution_count": null,
   "id": "4ae8372d-b188-4625-848b-e09bf117b3ec",
   "metadata": {},
   "outputs": [],
   "source": [
    "features_df = pd.DataFrame([features], columns=columns)\n",
    "\n",
    "features_df"
   ]
  },
  {
   "cell_type": "markdown",
   "id": "5911bedc-31ba-46a4-a8f7-d2de7f357db0",
   "metadata": {},
   "source": [
    "## Choice of Model"
   ]
  },
  {
   "cell_type": "code",
   "execution_count": 5,
   "id": "6819290f-9bfd-4b24-8678-ab1a0d7c5de3",
   "metadata": {},
   "outputs": [
    {
     "name": "stdin",
     "output_type": "stream",
     "text": [
      "Do you consent to using advanced population data, which may include protected information, for better accuracy? (Y/N) Y\n"
     ]
    },
    {
     "name": "stdout",
     "output_type": "stream",
     "text": [
      "Thank you, you have given consent for advanced population data.\n"
     ]
    }
   ],
   "source": [
    "consent = input(\"Do you consent to using advanced population data, which may include protected information, for better accuracy? (Y/N)\")\n",
    "\n",
    "if consent == \"Y\":\n",
    "    print('Thank you, you have given consent for advanced population data.')\n",
    "elif consent == \"N\":\n",
    "    print('Thank you, you have NOT given consent - a simpler model will be used which may be less accurate and robust.')\n",
    "else:\n",
    "    print('Please try again - you must enter Y (for yes) or N (for no).')\n",
    "    input(\"Do you consent to using advanced population data, which may include protected information, for better accuracy? (Y/N)\")"
   ]
  },
  {
   "cell_type": "code",
   "execution_count": null,
   "id": "56e8ece2-8c69-41bb-94b2-e8b3b89dec3a",
   "metadata": {},
   "outputs": [],
   "source": []
  }
 ],
 "metadata": {
  "kernelspec": {
   "display_name": "Python [conda env:base] *",
   "language": "python",
   "name": "conda-base-py"
  },
  "language_info": {
   "codemirror_mode": {
    "name": "ipython",
    "version": 3
   },
   "file_extension": ".py",
   "mimetype": "text/x-python",
   "name": "python",
   "nbconvert_exporter": "python",
   "pygments_lexer": "ipython3",
   "version": "3.12.7"
  }
 },
 "nbformat": 4,
 "nbformat_minor": 5
}
